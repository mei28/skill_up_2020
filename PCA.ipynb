{
 "cells": [
  {
   "cell_type": "code",
   "execution_count": 1,
   "metadata": {},
   "outputs": [],
   "source": [
    "import numpy as np \n",
    "import pandas as pd "
   ]
  },
  {
   "cell_type": "code",
   "execution_count": 107,
   "metadata": {},
   "outputs": [],
   "source": [
    "def svd(A):\n",
    "    B = np.dot(A.T,A)\n",
    "    eigen_values, eigen_vectors = np.linalg.eig(B)\n",
    "    \n",
    "    \n",
    "    singular_values = np.sort(eigen_values)\n",
    "    singular_index = np.argsort(singular_values)[::1]\n",
    "    \n",
    "    #\n",
    "    S = np.diagflat(singular_values[singular_index])\n",
    "    \n",
    "    V = eigen_vectors[:,singular_index]\n",
    "    \n",
    "    #\n",
    "    dig = S.diagonal()\n",
    "    U = [np.dot(A,V[:,i])/ dig[i] for i in range(len(dig))]\n",
    "    U = np.array(U).T\n",
    "    \n",
    "    return U,S,V\n",
    "    \n",
    "    \n",
    "    "
   ]
  },
  {
   "cell_type": "raw",
   "metadata": {},
   "source": [
    "def pca(X, n_components):\n",
    "    \n",
    "    X = X - X.mean(axis=0)\n",
    "    U, S, V = svd(X)\n",
    "    n = n_components\n",
    "    \n",
    "    X_new = np.dot(U[:,:n],S[:n,:n])\n",
    "    \n",
    "    return X_new"
   ]
  },
  {
   "cell_type": "code",
   "execution_count": 108,
   "metadata": {},
   "outputs": [
    {
     "name": "stdout",
     "output_type": "stream",
     "text": [
      "[[-12.50951953]\n",
      " [-16.33999601]\n",
      " [-13.3691643 ]\n",
      " [-23.56119428]\n",
      " [-12.55737682]\n",
      " [  6.87493232]\n",
      " [ -7.51147889]\n",
      " [  7.51063571]\n",
      " [ 13.67624051]\n",
      " [ 14.45190727]\n",
      " [  1.48499427]\n",
      " [  7.59461373]\n",
      " [  5.5674048 ]\n",
      " [ 12.78860307]\n",
      " [ 15.89939814]]\n"
     ]
    }
   ],
   "source": [
    "math = np.array([41,37,40,30,40,60,46,61,67,68,55,61,59,66,69])\n",
    "physics = np.array([26,32,31,24,60,40,26,27,33,25,26,30,29,37,41])\n",
    "X = np.vstack((math,physics)).T\n",
    "X_new = pca(X,n_components=1)\n",
    "print(X_new)"
   ]
  },
  {
   "cell_type": "code",
   "execution_count": null,
   "metadata": {},
   "outputs": [],
   "source": []
  }
 ],
 "metadata": {
  "kernelspec": {
   "display_name": "Python 3",
   "language": "python",
   "name": "python3"
  },
  "language_info": {
   "codemirror_mode": {
    "name": "ipython",
    "version": 3
   },
   "file_extension": ".py",
   "mimetype": "text/x-python",
   "name": "python",
   "nbconvert_exporter": "python",
   "pygments_lexer": "ipython3",
   "version": "3.8.6"
  }
 },
 "nbformat": 4,
 "nbformat_minor": 4
}
