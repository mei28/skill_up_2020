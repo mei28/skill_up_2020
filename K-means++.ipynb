{
 "cells": [
  {
   "cell_type": "code",
   "execution_count": 44,
   "metadata": {},
   "outputs": [],
   "source": [
    "import numpy as np \n",
    "import scipy.spatial.distance as distance\n",
    "\n",
    "def k_init(X, n_clusters):\n",
    "    np.random.seed(12345)\n",
    "    \n",
    "    n_samples, n_features = X.shape \n",
    "    #\n",
    "    centers = np.empty((n_clusters,n_features),dtype=X.dtype)\n",
    "    \n",
    "    center_id = np.random.randint(n_samples)\n",
    "    centers[0] = X[center_id]\n",
    "    \n",
    "    closet_dist_sq = distance.cdist(X[[center_id]], X, metric='sqeuclidean')\n",
    "    \n",
    "    current_pot = closet_dist_sq.sum()\n",
    "    \n",
    "    for c in range(1,n_clusters):\n",
    "        rand_val = np.random.random_sample(1)*current_pot\n",
    "        #\n",
    "        center_id = np.searchsorted(np.cumsum(closet_dist_sq), rand_val)\n",
    "        \n",
    "        tmp_dist = distance.cdist(X[center_id], X, metric='sqeuclidean')\n",
    "        #\n",
    "        closet_dist_sq = np.minimum(closet_dist_sq,tmp_dist)\n",
    "        \n",
    "        centers[c] = X[center_id]\n",
    "        \n",
    "        current_pot = closet_dist_sq.sum()\n",
    "        \n",
    "    return centers\n",
    "        "
   ]
  },
  {
   "cell_type": "code",
   "execution_count": 46,
   "metadata": {},
   "outputs": [
    {
     "name": "stdout",
     "output_type": "stream",
     "text": [
      "[[-1.  0.]\n",
      " [ 2. -2.]\n",
      " [ 0.  1.]]\n"
     ]
    }
   ],
   "source": [
    "X = np.array([\n",
    "    [0,0], [1,0], [-1,0],\n",
    "    [0,1], [0,-1], [-1,1], [-1,-1],\n",
    "    [0,0.5], [0.5,0.5], [0.5,0],\n",
    "    [1,2], [-1,2], [-2,-2],\n",
    "    [-3,3], [-2,0], [2,-2]\n",
    "])\n",
    "\n",
    "\n",
    "\n",
    "n_clusters = 3\n",
    "centers = k_init(X,n_clusters)\n",
    "print(centers)"
   ]
  }
 ],
 "metadata": {
  "kernelspec": {
   "display_name": "Python 3",
   "language": "python",
   "name": "python3"
  },
  "language_info": {
   "codemirror_mode": {
    "name": "ipython",
    "version": 3
   },
   "file_extension": ".py",
   "mimetype": "text/x-python",
   "name": "python",
   "nbconvert_exporter": "python",
   "pygments_lexer": "ipython3",
   "version": "3.8.6"
  }
 },
 "nbformat": 4,
 "nbformat_minor": 4
}
