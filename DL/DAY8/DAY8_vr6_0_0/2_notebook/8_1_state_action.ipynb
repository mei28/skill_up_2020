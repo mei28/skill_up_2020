{
 "cells": [
  {
   "cell_type": "markdown",
   "metadata": {},
   "source": [
    "# [迷路問題用] 状態を定義するためのStateクラスと行動を定義するためのActionクラスを確認する"
   ]
  },
  {
   "cell_type": "code",
   "execution_count": 1,
   "metadata": {},
   "outputs": [],
   "source": [
    "import numpy as np\n",
    "import pandas as pd\n",
    "import matplotlib.pyplot as plt\n",
    "from collections import OrderedDict"
   ]
  },
  {
   "cell_type": "code",
   "execution_count": 2,
   "metadata": {},
   "outputs": [
    {
     "name": "stdout",
     "output_type": "stream",
     "text": [
      "4777910224 , 4777877800 , 4777877576 , 4777878024\n",
      "5678\n",
      "<State: [1, 2]>\n"
     ]
    }
   ],
   "source": [
    "class State():\n",
    "    \"\"\"\n",
    "    状態のクラス\n",
    "    \"\"\"\n",
    "    def __init__(self, row, col):\n",
    "        self.row = row\n",
    "        self.col = col\n",
    "\n",
    "    def clone(self):\n",
    "        \"\"\"\n",
    "        自分自身を複製するためのメソッド\n",
    "        \"\"\"\n",
    "        return State(self.row, self.col)\n",
    "    \n",
    "    def __hash__(self):\n",
    "        \"\"\"\n",
    "        ハッシュメソッド\n",
    "        dict のようなハッシュを使ったコレクション型の要素に対する操作から呼び出される\n",
    "        __eq__メソッドとセットで用いる\n",
    "        \"\"\"\n",
    "        return hash((self.row, self.col))\n",
    "    \n",
    "    def __eq__(self, other):\n",
    "        \"\"\"\n",
    "        ハッシュとセットで用いる\n",
    "        \"\"\"\n",
    "        return self.row == other.row and self.col == other.col\n",
    "    \n",
    "    def __repr__(self):\n",
    "        \"\"\"\n",
    "        オブジェクトを表す文字列を返す\n",
    "        \"\"\"\n",
    "        return \"<State: [{}, {}]>\".format(self.row, self.col)\n",
    "\n",
    "\n",
    "\n",
    "# 特殊メソッド__hash__の挙動を確認する\n",
    "state1 = State(1,1)\n",
    "state2 = State(1,2)\n",
    "state3 = State(1,3)\n",
    "dic_state = {state1:1234, state2:5678, state3:9999} # オブジェクトがkeyのdictをつくる\n",
    "state = State(1,2)\n",
    "print(id(state1), \",\", id(state2), \",\", id(state3), \",\" , id(state)) # 実態が異なるオブジェクト\n",
    "print(dic_state[state]) # __eq__で定義された条件を満たせるkeyを探し、その時のvalueをひっぱれる\n",
    "\n",
    "# 特殊メソッド__repr__の挙動を確認する\n",
    "print(state) # returnに定義した文字列が返ってくる"
   ]
  },
  {
   "cell_type": "code",
   "execution_count": 3,
   "metadata": {},
   "outputs": [
    {
     "name": "stdout",
     "output_type": "stream",
     "text": [
      "OrderedDict([(0, 'UP'), (1, 'DOWN'), (2, 'LEFT'), (3, 'RIGHT')])\n"
     ]
    }
   ],
   "source": [
    "class Action():\n",
    "    \"\"\"\n",
    "    行動のクラス\n",
    "    \"\"\"\n",
    "    dic_actions = OrderedDict() # Pythn3.7系であれば、通常のdictでもよい\n",
    "    dic_actions[0] = \"UP\"\n",
    "    dic_actions[1] = \"DOWN\"\n",
    "    dic_actions[2] = \"LEFT\"\n",
    "    dic_actions[3] = \"RIGHT\"\n",
    "\n",
    "print(Action.dic_actions)"
   ]
  }
 ],
 "metadata": {
  "kernelspec": {
   "display_name": "Python 3",
   "language": "python",
   "name": "python3"
  },
  "language_info": {
   "codemirror_mode": {
    "name": "ipython",
    "version": 3
   },
   "file_extension": ".py",
   "mimetype": "text/x-python",
   "name": "python",
   "nbconvert_exporter": "python",
   "pygments_lexer": "ipython3",
   "version": "3.7.3"
  }
 },
 "nbformat": 4,
 "nbformat_minor": 2
}
